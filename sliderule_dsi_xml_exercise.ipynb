{
 "cells": [
  {
   "cell_type": "markdown",
   "metadata": {},
   "source": [
    "****\n",
    "## XML exercise\n",
    "\n",
    "Using data in 'data/mondial_database.xml', the examples above, and refering to https://docs.python.org/2.7/library/xml.etree.elementtree.html, find\n",
    "\n",
    "1. 10 countries with the lowest infant mortality rates\n",
    "2. 10 cities with the largest population\n",
    "3. 10 ethnic groups with the largest overall populations (sum of best/latest estimates over all countries)\n",
    "4. name and country of a) longest river, b) largest lake and c) airport at highest elevation"
   ]
  },
  {
   "cell_type": "code",
   "execution_count": 5,
   "metadata": {
    "collapsed": false
   },
   "outputs": [],
   "source": [
    "document = ET.parse( './data/mondial_database.xml' )\n",
    "from operator import itemgetter"
   ]
  },
  {
   "cell_type": "code",
   "execution_count": 6,
   "metadata": {
    "collapsed": false
   },
   "outputs": [
    {
     "name": "stdout",
     "output_type": "stream",
     "text": [
      "10 countries with the lowest infant mortality rates\n",
      "===================================================\n",
      "Ceuta: 0.0\n",
      "Christmas Island: 0.0\n",
      "Cocos Islands: 0.0\n",
      "Curacao: 0.0\n",
      "Falkland Islands: 0.0\n",
      "Holy See: 0.0\n",
      "Kosovo: 0.0\n",
      "Melilla: 0.0\n",
      "Montenegro: 0.0\n",
      "Niue: 0.0\n"
     ]
    }
   ],
   "source": [
    "dict1 = {}\n",
    "for element in document.iterfind('country'):\n",
    "    name = element.find('name')\n",
    "    im = element.find('infant_mortality')\n",
    "    if im is not None:\n",
    "        dict1[element.find('name').text] = float(im.text)\n",
    "    else:\n",
    "        dict1[element.find('name').text] = 0.0\n",
    "\n",
    "arr1 = []\n",
    "for key, value in sorted(dict1.items(), key=lambda item: (item[1], item[0])):\n",
    "    arr1.append (\"%s: %s\" % (key, value))\n",
    "    \n",
    "print(\"10 countries with the lowest infant mortality rates\")\n",
    "print(\"===================================================\")\n",
    "\n",
    "for i in range(10):\n",
    "    print(arr1[i])"
   ]
  },
  {
   "cell_type": "code",
   "execution_count": 7,
   "metadata": {
    "collapsed": false
   },
   "outputs": [
    {
     "name": "stdout",
     "output_type": "stream",
     "text": [
      "10 cities with the largest population\n",
      "=====================================\n",
      "Shanghai - 22315474\n",
      "Istanbul - 13710512\n",
      "Mumbai - 12442373\n",
      "Moskva - 11979529\n",
      "Beijing - 11716620\n",
      "São Paulo - 11152344\n",
      "Tianjin - 11090314\n",
      "Guangzhou - 11071424\n",
      "Delhi - 11034555\n",
      "Shenzhen - 10358381\n"
     ]
    }
   ],
   "source": [
    "# Create an empty array to hold the population for the maximum year available for a city\n",
    "maxYearPopulation = []\n",
    "i = 0\n",
    "root = document.getroot()\n",
    "# For every city\n",
    "for city in root.iter('city'):\n",
    "    i=0\n",
    "    yearsLst = []\n",
    "    # For every population in the city append the [Year, Population] to yearsLst List\n",
    "    if len(city.findall('population')) > 0:\n",
    "            for pop in city.iter('population'):\n",
    "                yearsLst.append([])\n",
    "                yearsLst[i].append(pop.attrib['year'])\n",
    "                yearsLst[i].append(int(pop.text))\n",
    "                yearsLst[i].append(city.find('name').text)\n",
    "                i+=1\n",
    "    # Once done with all the available populations sort the list descending    \n",
    "            yearsLstSorted = sorted(yearsLst, key = itemgetter(0) , reverse = True)\n",
    "    # Get the first list in the list of lists i.e. Maximum year and append it to maxYearPopulation List\n",
    "    maxYearPopulation.append(yearsLstSorted[0])\n",
    "#print(maxYearPopulation)\n",
    "# Sort this list descending on population\n",
    "maxYearPopulationSorted = sorted(maxYearPopulation, key = itemgetter(1), reverse = True)\n",
    "# Print Top 10 in another List\n",
    "print (\"10 cities with the largest population\")\n",
    "print (\"=====================================\")\n",
    "for idx in range(10):\n",
    "    print (maxYearPopulationSorted[idx][2], end = \"\")\n",
    "    print (\" - \", end = \"\")\n",
    "    print (maxYearPopulationSorted[idx][1])\n",
    "\n",
    "    \n"
   ]
  },
  {
   "cell_type": "code",
   "execution_count": 8,
   "metadata": {
    "collapsed": false,
    "scrolled": true
   },
   "outputs": [],
   "source": [
    "from xml.etree import ElementTree as ET\n",
    "import pandas as pd\n",
    "pd.options.display.float_format = '{:,.2f}'.format\n",
    "document = ET.parse( './data/mondial_database.xml' )\n",
    "root = document.getroot()\n",
    "df = pd.DataFrame(columns=['Year','Population','Country'])\n",
    "df1 = pd.DataFrame(columns=['Country','Percent','Ethnicgroup'])\n",
    "\n",
    "for country in root.iter('country'):\n",
    "    temp = []\n",
    "    if len(country.findall('population')) > 0:\n",
    "        for pop in country.findall('population'):\n",
    "            temp.append(pop.attrib['year'])\n",
    "        temp.sort(reverse = True)    \n",
    "        maxYear = temp[0]\n",
    "        #print(temp[0])\n",
    "\n",
    "        for pop in country.findall('population'):\n",
    "            if pop.attrib['year'] == maxYear:\n",
    "                df2 = pd.DataFrame([[pop.attrib['year'], int(pop.text), country.find('name').text]],\\\n",
    "                                   columns=['Year','Population','Country'])\n",
    "                frames = [df , df2]\n",
    "                df = pd.concat(frames)\n",
    "    if len(country.findall('ethnicgroup')) > 0:\n",
    "        for eth in country.findall('ethnicgroup'):\n",
    "            df3 = pd.DataFrame([[ country.find('name').text, float(eth.attrib['percentage']), eth.text ]] ,\\\n",
    "                               columns = ['Country' , 'Percent' , 'Ethnicgroup'])\n",
    "            frames1 = [df1, df3]\n",
    "            df1 = pd.concat(frames1)\n",
    "\n",
    "\n",
    "resultDF = pd.merge (df, df1, on='Country') "
   ]
  },
  {
   "cell_type": "code",
   "execution_count": 9,
   "metadata": {
    "collapsed": false
   },
   "outputs": [],
   "source": [
    "resultDF['Calc'] = resultDF['Percent']/100 * resultDF['Population']\n",
    "finalResultDF = resultDF[['Ethnicgroup','Calc']]\n",
    "finalResultDFSum = finalResultDF.groupby('Ethnicgroup').sum()\n",
    "finalResultSortedDesc = finalResultDFSum.sort_values(['Calc'],ascending=False)"
   ]
  },
  {
   "cell_type": "code",
   "execution_count": 10,
   "metadata": {
    "collapsed": false
   },
   "outputs": [],
   "source": [
    "answer = finalResultSortedDesc.head(10)"
   ]
  },
  {
   "cell_type": "code",
   "execution_count": 11,
   "metadata": {
    "collapsed": false
   },
   "outputs": [
    {
     "name": "stdout",
     "output_type": "stream",
     "text": [
      "10 ethnic groups with the largest overall populations \n",
      "===================================================\n"
     ]
    },
    {
     "data": {
      "text/html": [
       "<div>\n",
       "<table border=\"1\" class=\"dataframe\">\n",
       "  <thead>\n",
       "    <tr style=\"text-align: right;\">\n",
       "      <th></th>\n",
       "      <th>Calc</th>\n",
       "    </tr>\n",
       "    <tr>\n",
       "      <th>Ethnicgroup</th>\n",
       "      <th></th>\n",
       "    </tr>\n",
       "  </thead>\n",
       "  <tbody>\n",
       "    <tr>\n",
       "      <th>Han Chinese</th>\n",
       "      <td>1,245,058,800.00</td>\n",
       "    </tr>\n",
       "    <tr>\n",
       "      <th>Indo-Aryan</th>\n",
       "      <td>871,815,583.44</td>\n",
       "    </tr>\n",
       "    <tr>\n",
       "      <th>European</th>\n",
       "      <td>494,872,219.72</td>\n",
       "    </tr>\n",
       "    <tr>\n",
       "      <th>African</th>\n",
       "      <td>318,325,120.37</td>\n",
       "    </tr>\n",
       "    <tr>\n",
       "      <th>Dravidian</th>\n",
       "      <td>302,713,744.25</td>\n",
       "    </tr>\n",
       "    <tr>\n",
       "      <th>Mestizo</th>\n",
       "      <td>157,734,354.94</td>\n",
       "    </tr>\n",
       "    <tr>\n",
       "      <th>Bengali</th>\n",
       "      <td>146,776,916.72</td>\n",
       "    </tr>\n",
       "    <tr>\n",
       "      <th>Russian</th>\n",
       "      <td>131,856,996.08</td>\n",
       "    </tr>\n",
       "    <tr>\n",
       "      <th>Japanese</th>\n",
       "      <td>126,534,212.00</td>\n",
       "    </tr>\n",
       "    <tr>\n",
       "      <th>Malay</th>\n",
       "      <td>121,993,550.37</td>\n",
       "    </tr>\n",
       "  </tbody>\n",
       "</table>\n",
       "</div>"
      ],
      "text/plain": [
       "                        Calc\n",
       "Ethnicgroup                 \n",
       "Han Chinese 1,245,058,800.00\n",
       "Indo-Aryan    871,815,583.44\n",
       "European      494,872,219.72\n",
       "African       318,325,120.37\n",
       "Dravidian     302,713,744.25\n",
       "Mestizo       157,734,354.94\n",
       "Bengali       146,776,916.72\n",
       "Russian       131,856,996.08\n",
       "Japanese      126,534,212.00\n",
       "Malay         121,993,550.37"
      ]
     },
     "execution_count": 11,
     "metadata": {},
     "output_type": "execute_result"
    }
   ],
   "source": [
    "print(\"10 ethnic groups with the largest overall populations \")\n",
    "print(\"===================================================\")\n",
    "answer"
   ]
  },
  {
   "cell_type": "code",
   "execution_count": 54,
   "metadata": {
    "collapsed": false
   },
   "outputs": [],
   "source": [
    "dfRivers = pd.DataFrame(columns=['CountryName','RiverName','Length'])\n",
    "for river in root.iter('river'):\n",
    "    if river.find('length') is not None:\n",
    "        dfTemp = pd.DataFrame([[river.attrib['country'],river.find('name').text , float(river.find('length').text) ]],\\\n",
    "                              columns=['CountryName','RiverName','Length'])\n",
    "        riverFrames = [dfRivers,dfTemp]\n",
    "        dfRivers = pd.concat(riverFrames)"
   ]
  },
  {
   "cell_type": "code",
   "execution_count": 55,
   "metadata": {
    "collapsed": false
   },
   "outputs": [],
   "source": [
    "dfRivers = dfRivers.sort_values('Length',ascending=False)\n",
    "dfLongestRiver = dfRivers.head(1)"
   ]
  },
  {
   "cell_type": "code",
   "execution_count": 56,
   "metadata": {
    "collapsed": false
   },
   "outputs": [
    {
     "name": "stdout",
     "output_type": "stream",
     "text": [
      "Longest river and the Countries it flows through \n",
      "===================================================\n"
     ]
    },
    {
     "data": {
      "text/html": [
       "<div>\n",
       "<table border=\"1\" class=\"dataframe\">\n",
       "  <thead>\n",
       "    <tr style=\"text-align: right;\">\n",
       "      <th></th>\n",
       "      <th>CountryName</th>\n",
       "      <th>RiverName</th>\n",
       "      <th>Length</th>\n",
       "    </tr>\n",
       "  </thead>\n",
       "  <tbody>\n",
       "    <tr>\n",
       "      <th>0</th>\n",
       "      <td>CO BR PE</td>\n",
       "      <td>Amazonas</td>\n",
       "      <td>6,448.00</td>\n",
       "    </tr>\n",
       "  </tbody>\n",
       "</table>\n",
       "</div>"
      ],
      "text/plain": [
       "  CountryName RiverName   Length\n",
       "0    CO BR PE  Amazonas 6,448.00"
      ]
     },
     "execution_count": 56,
     "metadata": {},
     "output_type": "execute_result"
    }
   ],
   "source": [
    "print(\"Longest river and the Countries it flows through \")\n",
    "print(\"===================================================\")\n",
    "dfLongestRiver"
   ]
  },
  {
   "cell_type": "code",
   "execution_count": 58,
   "metadata": {
    "collapsed": false
   },
   "outputs": [
    {
     "name": "stdout",
     "output_type": "stream",
     "text": [
      "Largest lake and the Country it is located in \n",
      "===================================================\n"
     ]
    },
    {
     "data": {
      "text/html": [
       "<div>\n",
       "<table border=\"1\" class=\"dataframe\">\n",
       "  <thead>\n",
       "    <tr style=\"text-align: right;\">\n",
       "      <th></th>\n",
       "      <th>CountryName</th>\n",
       "      <th>LakeName</th>\n",
       "      <th>Area</th>\n",
       "    </tr>\n",
       "  </thead>\n",
       "  <tbody>\n",
       "    <tr>\n",
       "      <th>0</th>\n",
       "      <td>R AZ KAZ IR TM</td>\n",
       "      <td>Caspian Sea</td>\n",
       "      <td>386,400.00</td>\n",
       "    </tr>\n",
       "  </tbody>\n",
       "</table>\n",
       "</div>"
      ],
      "text/plain": [
       "      CountryName     LakeName       Area\n",
       "0  R AZ KAZ IR TM  Caspian Sea 386,400.00"
      ]
     },
     "execution_count": 58,
     "metadata": {},
     "output_type": "execute_result"
    }
   ],
   "source": [
    "dfLakes = pd.DataFrame(columns=['CountryName','LakeName','Area'])\n",
    "for lake in root.iter('lake'):\n",
    "    if lake.find('area') is not None:\n",
    "        dfTemp = pd.DataFrame([[lake.attrib['country'], lake.find('name').text , float(lake.find('area').text) ]],\\\n",
    "                              columns=['CountryName','LakeName','Area'])\n",
    "        lakeFrames = [dfLakes,dfTemp]\n",
    "        dfLakes = pd.concat(lakeFrames)\n",
    "\n",
    "dfLakes = dfLakes.sort_values('Area',ascending=False)\n",
    "dfLargestLake = dfLakes.head(1)\n",
    "print(\"Largest lake and the Country it is located in \")\n",
    "print(\"===================================================\")\n",
    "dfLargestLake"
   ]
  },
  {
   "cell_type": "code",
   "execution_count": 61,
   "metadata": {
    "collapsed": false
   },
   "outputs": [
    {
     "name": "stdout",
     "output_type": "stream",
     "text": [
      "Largest Airport and the Country it is located in \n",
      "===================================================\n"
     ]
    },
    {
     "data": {
      "text/html": [
       "<div>\n",
       "<table border=\"1\" class=\"dataframe\">\n",
       "  <thead>\n",
       "    <tr style=\"text-align: right;\">\n",
       "      <th></th>\n",
       "      <th>CountryName</th>\n",
       "      <th>AirportName</th>\n",
       "      <th>Elevation</th>\n",
       "    </tr>\n",
       "  </thead>\n",
       "  <tbody>\n",
       "    <tr>\n",
       "      <th>0</th>\n",
       "      <td>IR</td>\n",
       "      <td>Mashhad</td>\n",
       "      <td>995</td>\n",
       "    </tr>\n",
       "  </tbody>\n",
       "</table>\n",
       "</div>"
      ],
      "text/plain": [
       "  CountryName AirportName Elevation\n",
       "0          IR     Mashhad       995"
      ]
     },
     "execution_count": 61,
     "metadata": {},
     "output_type": "execute_result"
    }
   ],
   "source": [
    "dfAirports = pd.DataFrame(columns=['CountryName','AirportName','Elevation'])\n",
    "for airport in root.iter('airport'):\n",
    "    if airport.find('elevation') is not None:\n",
    "        dfTemp = pd.DataFrame([[airport.attrib['country'], airport.find('name').text , airport.find('elevation').text ]],\\\n",
    "                              columns=['CountryName','AirportName','Elevation'])\n",
    "        airportFrames = [dfAirports,dfTemp]\n",
    "        dfAirports = pd.concat(airportFrames)\n",
    "\n",
    "dfAirports = dfAirports.sort_values('Elevation',ascending=False)\n",
    "dfLargestAirport = dfAirports.head(1)\n",
    "print(\"Largest Airport and the Country it is located in \")\n",
    "print(\"===================================================\")\n",
    "dfLargestAirport"
   ]
  },
  {
   "cell_type": "code",
   "execution_count": null,
   "metadata": {
    "collapsed": true
   },
   "outputs": [],
   "source": []
  }
 ],
 "metadata": {
  "kernelspec": {
   "display_name": "Python 3",
   "language": "python",
   "name": "python3"
  },
  "language_info": {
   "codemirror_mode": {
    "name": "ipython",
    "version": 3
   },
   "file_extension": ".py",
   "mimetype": "text/x-python",
   "name": "python",
   "nbconvert_exporter": "python",
   "pygments_lexer": "ipython3",
   "version": "3.5.1"
  }
 },
 "nbformat": 4,
 "nbformat_minor": 0
}
