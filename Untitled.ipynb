{
 "cells": [
  {
   "cell_type": "raw",
   "metadata": {},
   "source": [
    "rng\n"
   ]
  },
  {
   "cell_type": "code",
   "execution_count": 19,
   "metadata": {
    "collapsed": true
   },
   "outputs": [],
   "source": [
    "rng = pd.date_range('1/1/2012', periods=100, freq='S')\n"
   ]
  },
  {
   "cell_type": "code",
   "execution_count": 26,
   "metadata": {
    "collapsed": true
   },
   "outputs": [],
   "source": [
    "ts = pd.Series(np.random.randint(0, 500, len(rng)), index=rng)\n"
   ]
  },
  {
   "cell_type": "code",
   "execution_count": 27,
   "metadata": {
    "collapsed": false
   },
   "outputs": [
    {
     "data": {
      "text/plain": [
       "<matplotlib.axes._subplots.AxesSubplot at 0x7d3d5c0>"
      ]
     },
     "execution_count": 27,
     "metadata": {},
     "output_type": "execute_result"
    }
   ],
   "source": [
    "ts.plot()"
   ]
  },
  {
   "cell_type": "code",
   "execution_count": 28,
   "metadata": {
    "collapsed": true
   },
   "outputs": [],
   "source": [
    "ts=ts.cumsum()"
   ]
  },
  {
   "cell_type": "code",
   "execution_count": 29,
   "metadata": {
    "collapsed": false
   },
   "outputs": [
    {
     "data": {
      "text/plain": [
       "2012-01-01 00:00:00      183\n",
       "2012-01-01 00:00:01      648\n",
       "2012-01-01 00:00:02      674\n",
       "2012-01-01 00:00:03      778\n",
       "2012-01-01 00:00:04     1085\n",
       "2012-01-01 00:00:05     1556\n",
       "2012-01-01 00:00:06     1684\n",
       "2012-01-01 00:00:07     1794\n",
       "2012-01-01 00:00:08     2127\n",
       "2012-01-01 00:00:09     2438\n",
       "2012-01-01 00:00:10     2601\n",
       "2012-01-01 00:00:11     2777\n",
       "2012-01-01 00:00:12     2943\n",
       "2012-01-01 00:00:13     3250\n",
       "2012-01-01 00:00:14     3746\n",
       "2012-01-01 00:00:15     3897\n",
       "2012-01-01 00:00:16     3990\n",
       "2012-01-01 00:00:17     4261\n",
       "2012-01-01 00:00:18     4581\n",
       "2012-01-01 00:00:19     4726\n",
       "2012-01-01 00:00:20     4852\n",
       "2012-01-01 00:00:21     4957\n",
       "2012-01-01 00:00:22     5165\n",
       "2012-01-01 00:00:23     5300\n",
       "2012-01-01 00:00:24     5699\n",
       "2012-01-01 00:00:25     5950\n",
       "2012-01-01 00:00:26     6426\n",
       "2012-01-01 00:00:27     6650\n",
       "2012-01-01 00:00:28     6767\n",
       "2012-01-01 00:00:29     7218\n",
       "                       ...  \n",
       "2012-01-01 00:01:10    16541\n",
       "2012-01-01 00:01:11    16777\n",
       "2012-01-01 00:01:12    16989\n",
       "2012-01-01 00:01:13    17424\n",
       "2012-01-01 00:01:14    17594\n",
       "2012-01-01 00:01:15    18047\n",
       "2012-01-01 00:01:16    18501\n",
       "2012-01-01 00:01:17    18710\n",
       "2012-01-01 00:01:18    18978\n",
       "2012-01-01 00:01:19    19249\n",
       "2012-01-01 00:01:20    19434\n",
       "2012-01-01 00:01:21    19843\n",
       "2012-01-01 00:01:22    19903\n",
       "2012-01-01 00:01:23    19959\n",
       "2012-01-01 00:01:24    20332\n",
       "2012-01-01 00:01:25    20635\n",
       "2012-01-01 00:01:26    20645\n",
       "2012-01-01 00:01:27    20789\n",
       "2012-01-01 00:01:28    20982\n",
       "2012-01-01 00:01:29    21091\n",
       "2012-01-01 00:01:30    21093\n",
       "2012-01-01 00:01:31    21280\n",
       "2012-01-01 00:01:32    21407\n",
       "2012-01-01 00:01:33    21653\n",
       "2012-01-01 00:01:34    21961\n",
       "2012-01-01 00:01:35    22350\n",
       "2012-01-01 00:01:36    22706\n",
       "2012-01-01 00:01:37    23000\n",
       "2012-01-01 00:01:38    23028\n",
       "2012-01-01 00:01:39    23327\n",
       "Freq: S, dtype: int32"
      ]
     },
     "execution_count": 29,
     "metadata": {},
     "output_type": "execute_result"
    }
   ],
   "source": [
    "ts\n"
   ]
  },
  {
   "cell_type": "code",
   "execution_count": 30,
   "metadata": {
    "collapsed": false
   },
   "outputs": [
    {
     "data": {
      "text/plain": [
       "<matplotlib.axes._subplots.AxesSubplot at 0x7d3d5c0>"
      ]
     },
     "execution_count": 30,
     "metadata": {},
     "output_type": "execute_result"
    }
   ],
   "source": [
    "ts.plot()"
   ]
  },
  {
   "cell_type": "code",
   "execution_count": null,
   "metadata": {
    "collapsed": true
   },
   "outputs": [],
   "source": []
  }
 ],
 "metadata": {
  "kernelspec": {
   "display_name": "Python 3",
   "language": "python",
   "name": "python3"
  },
  "language_info": {
   "codemirror_mode": {
    "name": "ipython",
    "version": 3
   },
   "file_extension": ".py",
   "mimetype": "text/x-python",
   "name": "python",
   "nbconvert_exporter": "python",
   "pygments_lexer": "ipython3",
   "version": "3.5.1"
  }
 },
 "nbformat": 4,
 "nbformat_minor": 0
}
